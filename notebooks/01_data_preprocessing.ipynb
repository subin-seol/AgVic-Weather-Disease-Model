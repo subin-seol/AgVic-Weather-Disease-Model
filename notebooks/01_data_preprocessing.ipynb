{
 "cells": [
  {
   "cell_type": "code",
   "execution_count": 8,
   "metadata": {},
   "outputs": [],
   "source": [
    "# importing libraries\n",
    "import pandas as pd"
   ]
  },
  {
   "cell_type": "code",
   "execution_count": 9,
   "metadata": {},
   "outputs": [],
   "source": [
    "# File paths\n",
    "input_file = \"../data/combined_weather_data.csv\"\n",
    "processed_file = \"../data/processed_weather_data.csv\"\n",
    "feature_engineered_file = \"../data/feature_engineered_weather_data.csv\""
   ]
  },
  {
   "cell_type": "code",
   "execution_count": 10,
   "metadata": {},
   "outputs": [
    {
     "name": "stdout",
     "output_type": "stream",
     "text": [
      "<class 'pandas.core.frame.DataFrame'>\n",
      "RangeIndex: 2441 entries, 0 to 2440\n",
      "Data columns (total 14 columns):\n",
      " #   Column                        Non-Null Count  Dtype  \n",
      "---  ------                        --------------  -----  \n",
      " 0   Date                          2441 non-null   object \n",
      " 1   Air Temp degC - min           2441 non-null   float64\n",
      " 2   Air Temp degC - ave           2441 non-null   float64\n",
      " 3   Air Temp degC - max           2441 non-null   float64\n",
      " 4   Air Temp (Canopy) degC - ave  2410 non-null   float64\n",
      " 5   Humidity % - ave              2441 non-null   float64\n",
      " 6   Humidity (Canopy) % - ave     2410 non-null   float64\n",
      " 7   Wind Speed km/h - min         2422 non-null   float64\n",
      " 8   Wind Speed km/h - ave         2422 non-null   float64\n",
      " 9   Wind Speed km/h - max         2422 non-null   float64\n",
      " 10  Rainfall mm - raw             2441 non-null   float64\n",
      " 11  Solar Radiation W/m^2 - ave   2441 non-null   float64\n",
      " 12  ETo mm - computed             2413 non-null   float64\n",
      " 13  Soil Temp degC - ave          2441 non-null   float64\n",
      "dtypes: float64(13), object(1)\n",
      "memory usage: 267.1+ KB\n",
      "Initial Data Info:\n",
      " None\n",
      "<class 'pandas.core.frame.DataFrame'>\n",
      "Int64Index: 2441 entries, 0 to 2440\n",
      "Data columns (total 14 columns):\n",
      " #   Column                        Non-Null Count  Dtype         \n",
      "---  ------                        --------------  -----         \n",
      " 0   Date                          2441 non-null   datetime64[ns]\n",
      " 1   Air Temp degC - min           2441 non-null   float64       \n",
      " 2   Air Temp degC - ave           2441 non-null   float64       \n",
      " 3   Air Temp degC - max           2441 non-null   float64       \n",
      " 4   Air Temp (Canopy) degC - ave  2441 non-null   float64       \n",
      " 5   Humidity % - ave              2441 non-null   float64       \n",
      " 6   Humidity (Canopy) % - ave     2441 non-null   float64       \n",
      " 7   Wind Speed km/h - min         2441 non-null   float64       \n",
      " 8   Wind Speed km/h - ave         2441 non-null   float64       \n",
      " 9   Wind Speed km/h - max         2441 non-null   float64       \n",
      " 10  Rainfall mm - raw             2441 non-null   float64       \n",
      " 11  Solar Radiation W/m^2 - ave   2441 non-null   float64       \n",
      " 12  ETo mm - computed             2441 non-null   float64       \n",
      " 13  Soil Temp degC - ave          2441 non-null   float64       \n",
      "dtypes: datetime64[ns](1), float64(13)\n",
      "memory usage: 286.1 KB\n",
      "Final Data Info:\n",
      " None\n",
      "Processed data saved to ../data/processed_weather_data.csv\n"
     ]
    }
   ],
   "source": [
    "df = pd.read_csv(input_file, encoding='utf-8')\n",
    "print(\"Initial Data Info:\\n\", df.info())\n",
    "\n",
    "df[\"Date\"] = pd.to_datetime(df[\"Date\"], format=\"%d/%m/%Y\", errors=\"coerce\")\n",
    "df.dropna(subset=[\"Date\"], inplace=True)\n",
    "df.drop_duplicates(inplace=True)\n",
    "\n",
    "numeric_cols = df.select_dtypes(include=['object']).columns.tolist()\n",
    "for col in numeric_cols:\n",
    "    if col != \"Date\":\n",
    "        df[col] = pd.to_numeric(df[col], errors=\"coerce\")\n",
    "\n",
    "df.fillna(df.median(numeric_only=True), inplace=True)\n",
    "print(\"Final Data Info:\\n\", df.info())\n",
    "df.to_csv(processed_file, index=False)\n",
    "print(f\"Processed data saved to {processed_file}\")"
   ]
  },
  {
   "cell_type": "code",
   "execution_count": 11,
   "metadata": {},
   "outputs": [
    {
     "name": "stdout",
     "output_type": "stream",
     "text": [
      "Feature-engineered dataset saved to ../data/feature_engineered_weather_data.csv\n"
     ]
    }
   ],
   "source": [
    "df = pd.read_csv(processed_file, encoding='utf-8')\n",
    "df[\"Date\"] = pd.to_datetime(df[\"Date\"], format=\"%d/%m/%Y\", errors=\"coerce\")\n",
    "\n",
    "df[\"Year\"] = df[\"Date\"].dt.year\n",
    "df[\"Month\"] = df[\"Date\"].dt.month\n",
    "df[\"Day\"] = df[\"Date\"].dt.day\n",
    "df[\"Weekday\"] = df[\"Date\"].dt.weekday  # Monday = 0, Sunday = 6\n",
    "\n",
    "def assign_season(month):\n",
    "    if month in [12, 1, 2]: return \"Summer\"\n",
    "    elif month in [3, 4, 5]: return \"Autumn\"\n",
    "    elif month in [6, 7, 8]: return \"Winter\"\n",
    "    else: return \"Spring\"\n",
    "\n",
    "df[\"Season\"] = df[\"Month\"].apply(assign_season)\n",
    "\n",
    "df[\"Temp_Range\"] = df[\"Air Temp degC - max\"] - df[\"Air Temp degC - min\"]\n",
    "df[\"Humidity_Range\"] = df[\"Humidity % - ave\"] - df[\"Humidity (Canopy) % - ave\"]\n",
    "\n",
    "for col in [\"Air Temp degC - ave\", \"Humidity % - ave\", \"Rainfall mm - raw\"]:\n",
    "    df[f\"{col}_7d_avg\"] = df[col].rolling(window=7).mean()\n",
    "    df[f\"{col}_30d_avg\"] = df[col].rolling(window=30).mean()\n",
    "    df[f\"{col}_lag1\"] = df[col].shift(1)\n",
    "\n",
    "df.dropna(inplace=True)\n",
    "df.to_csv(feature_engineered_file, index=False)\n",
    "print(f\"Feature-engineered dataset saved to {feature_engineered_file}\")"
   ]
  }
 ],
 "metadata": {
  "kernelspec": {
   "display_name": "base",
   "language": "python",
   "name": "python3"
  },
  "language_info": {
   "codemirror_mode": {
    "name": "ipython",
    "version": 3
   },
   "file_extension": ".py",
   "mimetype": "text/x-python",
   "name": "python",
   "nbconvert_exporter": "python",
   "pygments_lexer": "ipython3",
   "version": "3.11.3"
  }
 },
 "nbformat": 4,
 "nbformat_minor": 2
}
