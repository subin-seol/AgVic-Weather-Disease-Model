{
 "cells": [
  {
   "cell_type": "code",
   "execution_count": 2,
   "id": "28f40dfc",
   "metadata": {},
   "outputs": [
    {
     "name": "stdout",
     "output_type": "stream",
     "text": [
      "✅ Random Forest model and encoder saved successfully.\n"
     ]
    }
   ],
   "source": [
    "import pandas as pd\n",
    "from sklearn.ensemble import RandomForestClassifier\n",
    "from sklearn.preprocessing import OneHotEncoder\n",
    "from sklearn.model_selection import train_test_split\n",
    "import joblib\n",
    "import numpy as np\n",
    "\n",
    "# Load processed dataset (adjust path if needed)\n",
    "df = pd.read_csv(\"../data/HR_processed_data.csv\")\n",
    "\n",
    "# Drop rows with missing target\n",
    "df = df.dropna(subset=[\"HR Incidence\"])\n",
    "\n",
    "# Create binary classification target (tune threshold if needed)\n",
    "df[\"HR_Risk_High\"] = (df[\"HR Incidence\"] > 0.2).astype(int)\n",
    "\n",
    "# Select categorical and numeric features\n",
    "categorical = [\"Orchard\", \"Variety\"]\n",
    "numeric = [\n",
    "    \"Days over 40C\", \"Days over 35C\", \"Total Amount of rain ml since 1 Jan\",\n",
    "    \"No of rain days since 1 Jan\", \"Amt rain in last event<5days from assess\",\n",
    "    \"Total rain Jan mm\", \"Total rain Feb mm\"\n",
    "]\n",
    "\n",
    "# Encode categorical features\n",
    "encoder = OneHotEncoder(sparse_output=False, handle_unknown=\"ignore\")\n",
    "X_cat = encoder.fit_transform(df[categorical])\n",
    "\n",
    "# Combine with numeric features\n",
    "X = np.hstack([X_cat, df[numeric].values])\n",
    "y = df[\"HR_Risk_High\"]\n",
    "\n",
    "# Train/test split\n",
    "X_train, X_test, y_train, y_test = train_test_split(X, y, random_state=42)\n",
    "\n",
    "# Train Random Forest model\n",
    "rf = RandomForestClassifier(random_state=42)\n",
    "rf.fit(X_train, y_train)\n",
    "\n",
    "# Save model and encoder\n",
    "joblib.dump(rf, \"hr_risk_model.pkl\")\n",
    "joblib.dump(encoder, \"encoder.pkl\")\n",
    "\n",
    "print(\"✅ Random Forest model and encoder saved successfully.\")\n"
   ]
  }
 ],
 "metadata": {
  "kernelspec": {
   "display_name": "base",
   "language": "python",
   "name": "python3"
  },
  "language_info": {
   "codemirror_mode": {
    "name": "ipython",
    "version": 3
   },
   "file_extension": ".py",
   "mimetype": "text/x-python",
   "name": "python",
   "nbconvert_exporter": "python",
   "pygments_lexer": "ipython3",
   "version": "3.11.3"
  }
 },
 "nbformat": 4,
 "nbformat_minor": 5
}
